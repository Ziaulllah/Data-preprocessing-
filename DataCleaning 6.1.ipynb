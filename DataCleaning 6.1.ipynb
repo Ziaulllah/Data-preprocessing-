{
 "cells": [
  {
   "cell_type": "markdown",
   "id": "4827c2be-55b2-467c-abe3-d9ab1ee17d51",
   "metadata": {},
   "source": [
    "# Data Cleaning and Data Preprocessing: A Comprehensive Explanation\n",
    "Data cleaning and data preprocessing are essential steps in the data analysis and machine learning pipeline. They involve preparing raw data for analysis or modeling by addressing issues such as missing values, inconsistencies, and irrelevant information. These steps ensure that the data is accurate, consistent, and suitable for further analysis or model training. Below is a detailed explanation of both processes.\n",
    "\n",
    "# 1. Data Cleaning\n",
    "Data cleaning is the process of detecting and correcting (or removing) errors, inconsistencies, and inaccuracies in datasets. It ensures that the data is reliable and ready for analysis. Here are the key steps involved in data cleaning:\n",
    "\n",
    "# 1.1 Handling Missing Values\n",
    "Missing values are a common issue in datasets and can arise due to data entry errors, incomplete data collection, or system failures. Common strategies to handle missing values include:\n",
    "\n",
    "**Removing Rows/Columns:** If the missing values are minimal or concentrated in specific columns, you can drop those rows or columns.\n",
    "\n",
    "**Imputation:** Replace missing values with statistical measures such as mean, median, mode, or a constant value.\n",
    "\n",
    "**Prediction Models:** Use machine learning models to predict and fill in missing values based on other features.\n",
    "\n",
    "# 1.2 Removing Duplicates\n",
    "Duplicate data can skew analysis and lead to incorrect conclusions. Identifying and removing duplicate rows ensures data integrity. Tools like pandas in Python provide functions like drop_duplicates() to handle this.\n",
    "\n",
    "# 1.3 Correcting Inconsistent Data\n",
    "Inconsistent data includes typos, formatting issues, or mismatched values. For example:\n",
    "\n",
    "Standardizing date formats (e.g., converting \"MM/DD/YYYY\" to \"YYYY-MM-DD\").\n",
    "\n",
    "Fixing typos in categorical data (e.g., \"Male\" vs. \"male\").\n",
    "\n",
    "Ensuring consistent units of measurement (e.g., converting all weights to kilograms).\n",
    "\n",
    "# 1.4 Handling Outliers\n",
    "Outliers are extreme values that deviate significantly from the rest of the data. They can be caused by errors or represent valid but rare observations. Methods to handle outliers include:\n",
    "\n",
    "**Removing Outliers:** If they are due to errors.\n",
    "\n",
    "**Transforming Data:** Applying log transformations or scaling to reduce the impact of outliers.\n",
    "\n",
    "**Capping:** Replacing outliers with a threshold value.\n",
    "\n",
    "# 1.5 Data Type Conversion\n",
    "Ensuring that each column has the correct data type is essential for accurate analysis. For example:\n",
    "\n",
    "Converting strings to numeric types (e.g., \"123\" to 123).\n",
    "\n",
    "Parsing dates from strings (e.g., \"2023-10-01\" to a datetime object).\n",
    "\n",
    "# 2. Data Preprocessing\n",
    "Data preprocessing involves transforming raw data into a format that is suitable for analysis or machine learning models. It includes techniques to normalize, scale, and encode data. Here are the key steps:\n",
    "\n",
    "# 2.1 Feature Scaling\n",
    "Machine learning algorithms often perform better when numerical features are on the same scale. Common scaling techniques include:\n",
    "\n",
    "**Normalization:** Scaling data to a range of [0, 1] using Min-Max scaling.\n",
    "\n",
    "**Standardization: **Transforming data to have a mean of 0 and a standard deviation of 1 (Z-score normalization).\n",
    "\n",
    "# 2.2 Encoding Categorical Variables\n",
    "Machine learning models require numerical input, so categorical variables (e.g., \"Red,\" \"Blue,\" \"Green\") must be encoded. Common techniques include:\n",
    "\n",
    "**Label Encoding:** Assigning a unique integer to each category (e.g., \"Red\" = 0, \"Blue\" = 1).\n",
    "\n",
    "**One-Hot Encoding:** Creating binary columns for each category (e.g., \"Red\" = [1, 0, 0], \"Blue\" = [0, 1, 0]).\n",
    "\n",
    "# 2.3 Feature Engineering\n",
    "Feature engineering involves creating new features or modifying existing ones to improve model performance. Examples include:\n",
    "\n",
    "Creating interaction features (e.g., multiplying two columns).\n",
    "\n",
    "Extracting information from dates (e.g., day of the week, month).\n",
    "\n",
    "Binning continuous variables into categories (e.g., age groups).\n",
    "\n",
    "# 2.4 Splitting Data\n",
    "For machine learning, data is typically split into training, validation, and test sets:\n",
    "\n",
    "**Training Set:** Used to train the model.\n",
    "\n",
    "**Validation Set:** Used to tune hyperparameters and evaluate model performance during training.\n",
    "\n",
    "**Test Set:** Used to assess the final model's performance.\n",
    "\n",
    "# 2.5 Dimensionality Reduction\n",
    "High-dimensional data can lead to overfitting and increased computational costs. Dimensionality reduction techniques include:\n",
    "\n",
    "**Principal Component Analysis (PCA):**Reducing the number of features while retaining most of the variance.\n",
    "\n",
    "**Feature Selection:** Selecting the most relevant features based on statistical tests or model performance.\n",
    "\n",
    "# 2.6 Handling Imbalanced Data\n",
    "In classification problems, imbalanced datasets (where one class is significantly underrepresented) can lead to biased models. Techniques to address this include:\n",
    "\n",
    "**Oversampling:** Increasing the number of samples in the minority class (e.g., using SMOTE).\n",
    "\n",
    "**Undersampling:** Reducing the number of samples in the majority class.\n",
    "\n",
    "**Class Weighting:** Adjusting the weights of classes during model training.\n",
    "\n",
    "# 3. Tools and Libraries for Data Cleaning and Preprocessing\n",
    "Several tools and libraries simplify the data cleaning and preprocessing process:\n",
    "\n",
    "Python Libraries: Pandas, NumPy, Scikit-learn, and TensorFlow.\n",
    "\n",
    "R Libraries: dplyr, tidyr, and caret.\n",
    "\n",
    "Data Cleaning Tools: OpenRefine, Trifacta, and Excel.\n",
    "\n",
    "# 4. Importance of Data Cleaning and Preprocessing\n",
    "**Improves Data Quality:** Ensures that the data is accurate, consistent, and reliable.\n",
    "\n",
    "**Enhances Model Performance:** Clean and well-preprocessed data leads to better machine learning model performance.\n",
    "\n",
    "**Saves Time and Resources:** Reduces the risk of errors and rework during analysis or modeling.\n",
    "\n",
    "Facilitates Better Decision-Making: High-quality data leads to more accurate insights and predictions.\n",
    "\n",
    "By following these steps, you can ensure that your data is clean, well-structured, and ready for analysis or machine learning tasks. Proper data cleaning and preprocessing are foundational to achieving meaningful and reliable results.\n",
    "\n"
   ]
  },
  {
   "cell_type": "code",
   "execution_count": null,
   "id": "479e376a-6d44-4fd3-94be-91688d0361fb",
   "metadata": {},
   "outputs": [],
   "source": [
    "import pandas as pd  # For data manipulation and analysis\n",
    "import numpy as np   # For numerical computations\n",
    "import seaborn as sns  # For data visualization\n",
    "import datetime  # For handling date and time operations\n",
    "from fuzzywuzzy import process  # For string matching and fuzzy string operations"
   ]
  },
  {
   "cell_type": "code",
   "execution_count": 2,
   "id": "77c71562-555b-4df5-b8c9-25e7d8055774",
   "metadata": {},
   "outputs": [
    {
     "name": "stdout",
     "output_type": "stream",
     "text": [
      "latin-1\n"
     ]
    }
   ],
   "source": [
    "#----------------> to remove UnicodeDecodeError   \n",
    "\n",
    "try:\n",
    "    # Attempt to read the CSV file using UTF-8 encoding (most common encoding for text files)\n",
    "    data = pd.read_csv('PIC.csv', encoding='utf-8')\n",
    "except UnicodeDecodeError:\n",
    "    # If UTF-8 fails, try reading the file using Latin-1 encoding (a fallback for Western European languages)\n",
    "    try:\n",
    "        data = pd.read_csv('PIC.csv', encoding='latin-1')\n",
    "        print('File successfully read using latin-1 encoding.')\n",
    "    except UnicodeDecodeError:\n",
    "        # If Latin-1 fails, try ISO-8859-1 encoding (another common encoding for Western European languages)\n",
    "        try:\n",
    "            data = pd.read_csv('PIC.csv', encoding='ISO-8859-1')\n",
    "            print('File successfully read using ISO-8859-1 encoding.')\n",
    "        except UnicodeDecodeError:\n",
    "            # If ISO-8859-1 fails, try cp1252 encoding (Windows-specific encoding for Western European languages)\n",
    "            data = pd.read_csv('PIC.csv', encoding='cp1252')\n",
    "            print('File successfully read using cp1252 encoding.')\n"
   ]
  },
  {
   "cell_type": "code",
   "execution_count": 20,
   "id": "49aa7447-ef37-42f1-953e-08a04bc74d2a",
   "metadata": {},
   "outputs": [
    {
     "data": {
      "text/html": [
       "<div>\n",
       "<style scoped>\n",
       "    .dataframe tbody tr th:only-of-type {\n",
       "        vertical-align: middle;\n",
       "    }\n",
       "\n",
       "    .dataframe tbody tr th {\n",
       "        vertical-align: top;\n",
       "    }\n",
       "\n",
       "    .dataframe thead th {\n",
       "        text-align: right;\n",
       "    }\n",
       "</style>\n",
       "<table border=\"1\" class=\"dataframe\">\n",
       "  <thead>\n",
       "    <tr style=\"text-align: right;\">\n",
       "      <th></th>\n",
       "      <th>S#</th>\n",
       "      <th>Teacher Name</th>\n",
       "      <th>University Currently Teaching</th>\n",
       "      <th>Department</th>\n",
       "      <th>Province University Located</th>\n",
       "      <th>Designation</th>\n",
       "      <th>Terminal Degree</th>\n",
       "      <th>Graduated from</th>\n",
       "      <th>Country</th>\n",
       "      <th>Year</th>\n",
       "      <th>Area of Specialization/Research Interests</th>\n",
       "      <th>Other Information</th>\n",
       "    </tr>\n",
       "  </thead>\n",
       "  <tbody>\n",
       "    <tr>\n",
       "      <th>0</th>\n",
       "      <td>1</td>\n",
       "      <td>Dr. Ihsan Ullah</td>\n",
       "      <td>University of Balochistan</td>\n",
       "      <td>Computer Science &amp; IT</td>\n",
       "      <td>Balochistan</td>\n",
       "      <td>Assistant Professor</td>\n",
       "      <td>PhD</td>\n",
       "      <td>NaN</td>\n",
       "      <td>France</td>\n",
       "      <td>NaN</td>\n",
       "      <td>P2P Networks, Telecommunication Systems</td>\n",
       "      <td>NaN</td>\n",
       "    </tr>\n",
       "    <tr>\n",
       "      <th>1</th>\n",
       "      <td>2</td>\n",
       "      <td>Dr. Atiq Ahmed</td>\n",
       "      <td>University of Balochistan</td>\n",
       "      <td>Computer Science &amp; IT</td>\n",
       "      <td>Balochistan</td>\n",
       "      <td>Associate Professor</td>\n",
       "      <td>PhD</td>\n",
       "      <td>NaN</td>\n",
       "      <td>France</td>\n",
       "      <td>NaN</td>\n",
       "      <td>Wireless Networks, Telecommunication Systems, ...</td>\n",
       "      <td>NaN</td>\n",
       "    </tr>\n",
       "    <tr>\n",
       "      <th>2</th>\n",
       "      <td>3</td>\n",
       "      <td>Dr. Abdul Basit</td>\n",
       "      <td>University of Balochistan</td>\n",
       "      <td>Computer Science &amp; IT</td>\n",
       "      <td>Balochistan</td>\n",
       "      <td>Assistant Professor</td>\n",
       "      <td>PhD</td>\n",
       "      <td>Asian Institute of Technology</td>\n",
       "      <td>Thailand</td>\n",
       "      <td>NaN</td>\n",
       "      <td>Software Engineering &amp; DBMS</td>\n",
       "      <td>NaN</td>\n",
       "    </tr>\n",
       "    <tr>\n",
       "      <th>3</th>\n",
       "      <td>4</td>\n",
       "      <td>Mr. Muhammad Khalid Badini</td>\n",
       "      <td>University of Balochistan</td>\n",
       "      <td>Computer Science &amp; IT</td>\n",
       "      <td>Balochistan</td>\n",
       "      <td>Assistant Professor</td>\n",
       "      <td>MS</td>\n",
       "      <td>NaN</td>\n",
       "      <td>NaN</td>\n",
       "      <td>NaN</td>\n",
       "      <td>Operating System &amp; DBMS</td>\n",
       "      <td>On study leave</td>\n",
       "    </tr>\n",
       "    <tr>\n",
       "      <th>4</th>\n",
       "      <td>5</td>\n",
       "      <td>Dr. Waheed Noor</td>\n",
       "      <td>University of Balochistan</td>\n",
       "      <td>Computer Science &amp; IT</td>\n",
       "      <td>Balochistan</td>\n",
       "      <td>Assistant Professor</td>\n",
       "      <td>PhD</td>\n",
       "      <td>Asian Institute of Technology</td>\n",
       "      <td>Thailand</td>\n",
       "      <td>NaN</td>\n",
       "      <td>DBMS</td>\n",
       "      <td>NaN</td>\n",
       "    </tr>\n",
       "    <tr>\n",
       "      <th>...</th>\n",
       "      <td>...</td>\n",
       "      <td>...</td>\n",
       "      <td>...</td>\n",
       "      <td>...</td>\n",
       "      <td>...</td>\n",
       "      <td>...</td>\n",
       "      <td>...</td>\n",
       "      <td>...</td>\n",
       "      <td>...</td>\n",
       "      <td>...</td>\n",
       "      <td>...</td>\n",
       "      <td>...</td>\n",
       "    </tr>\n",
       "    <tr>\n",
       "      <th>1976</th>\n",
       "      <td>1977</td>\n",
       "      <td>Dr. Masroor Hussain</td>\n",
       "      <td>Ghulam Ishaq Khan Institute</td>\n",
       "      <td>Computer Science and Engineering</td>\n",
       "      <td>KPK</td>\n",
       "      <td>Associate Professor</td>\n",
       "      <td>PhD</td>\n",
       "      <td>NaN</td>\n",
       "      <td>NaN</td>\n",
       "      <td>NaN</td>\n",
       "      <td>High Performance Computing, Computational Scie...</td>\n",
       "      <td>NaN</td>\n",
       "    </tr>\n",
       "    <tr>\n",
       "      <th>1977</th>\n",
       "      <td>1978</td>\n",
       "      <td>Dr. Rashad M Jillani</td>\n",
       "      <td>Ghulam Ishaq Khan Institute</td>\n",
       "      <td>Computer Science and Engineering</td>\n",
       "      <td>KPK</td>\n",
       "      <td>Assistant Professor</td>\n",
       "      <td>PhD</td>\n",
       "      <td>Florida Atlantic University</td>\n",
       "      <td>USA</td>\n",
       "      <td>2012.0</td>\n",
       "      <td>Digital Multimedia Systems, Video Compression ...</td>\n",
       "      <td>NaN</td>\n",
       "    </tr>\n",
       "    <tr>\n",
       "      <th>1978</th>\n",
       "      <td>1979</td>\n",
       "      <td>Dr. Asif Khan</td>\n",
       "      <td>Ghulam Ishaq Khan Institute</td>\n",
       "      <td>Computer Science and Engineering</td>\n",
       "      <td>KPK</td>\n",
       "      <td>Assistant Professor</td>\n",
       "      <td>PhD</td>\n",
       "      <td>NaN</td>\n",
       "      <td>Austria</td>\n",
       "      <td>NaN</td>\n",
       "      <td>Unmanned Aerial Vehicle (UAV), Multirobot Syst...</td>\n",
       "      <td>NaN</td>\n",
       "    </tr>\n",
       "    <tr>\n",
       "      <th>1979</th>\n",
       "      <td>1980</td>\n",
       "      <td>Dr. Shahabuddin Ansari</td>\n",
       "      <td>Ghulam Ishaq Khan Institute</td>\n",
       "      <td>Computer Science and Engineering</td>\n",
       "      <td>KPK</td>\n",
       "      <td>Assistant Professor</td>\n",
       "      <td>PhD</td>\n",
       "      <td>Ghulam Ishaq Khan Institute of Science and Tec...</td>\n",
       "      <td>Pakistan</td>\n",
       "      <td>NaN</td>\n",
       "      <td>Medical Image Processing and Analysis, Digital...</td>\n",
       "      <td>NaN</td>\n",
       "    </tr>\n",
       "    <tr>\n",
       "      <th>1980</th>\n",
       "      <td>1981</td>\n",
       "      <td>Dr. Sajid Anwar</td>\n",
       "      <td>Ghulam Ishaq Khan Institute</td>\n",
       "      <td>Computer Science and Engineering</td>\n",
       "      <td>KPK</td>\n",
       "      <td>Assistant Professor</td>\n",
       "      <td>PhD</td>\n",
       "      <td>Seoul National University</td>\n",
       "      <td>South Korea</td>\n",
       "      <td>NaN</td>\n",
       "      <td>Pruning and Quantizing CNN, GPGPU,</td>\n",
       "      <td>NaN</td>\n",
       "    </tr>\n",
       "  </tbody>\n",
       "</table>\n",
       "<p>1981 rows × 12 columns</p>\n",
       "</div>"
      ],
      "text/plain": [
       "        S#                Teacher Name University Currently Teaching  \\\n",
       "0        1             Dr. Ihsan Ullah     University of Balochistan   \n",
       "1        2              Dr. Atiq Ahmed     University of Balochistan   \n",
       "2        3             Dr. Abdul Basit     University of Balochistan   \n",
       "3        4  Mr. Muhammad Khalid Badini     University of Balochistan   \n",
       "4        5             Dr. Waheed Noor     University of Balochistan   \n",
       "...    ...                         ...                           ...   \n",
       "1976  1977         Dr. Masroor Hussain   Ghulam Ishaq Khan Institute   \n",
       "1977  1978        Dr. Rashad M Jillani   Ghulam Ishaq Khan Institute   \n",
       "1978  1979               Dr. Asif Khan   Ghulam Ishaq Khan Institute   \n",
       "1979  1980      Dr. Shahabuddin Ansari   Ghulam Ishaq Khan Institute   \n",
       "1980  1981             Dr. Sajid Anwar   Ghulam Ishaq Khan Institute   \n",
       "\n",
       "                            Department Province University Located  \\\n",
       "0                Computer Science & IT                 Balochistan   \n",
       "1                Computer Science & IT                 Balochistan   \n",
       "2                Computer Science & IT                 Balochistan   \n",
       "3                Computer Science & IT                 Balochistan   \n",
       "4                Computer Science & IT                 Balochistan   \n",
       "...                                ...                         ...   \n",
       "1976  Computer Science and Engineering                         KPK   \n",
       "1977  Computer Science and Engineering                         KPK   \n",
       "1978  Computer Science and Engineering                         KPK   \n",
       "1979  Computer Science and Engineering                         KPK   \n",
       "1980  Computer Science and Engineering                         KPK   \n",
       "\n",
       "              Designation Terminal Degree  \\\n",
       "0     Assistant Professor             PhD   \n",
       "1     Associate Professor             PhD   \n",
       "2     Assistant Professor             PhD   \n",
       "3     Assistant Professor              MS   \n",
       "4     Assistant Professor             PhD   \n",
       "...                   ...             ...   \n",
       "1976  Associate Professor             PhD   \n",
       "1977  Assistant Professor             PhD   \n",
       "1978  Assistant Professor             PhD   \n",
       "1979  Assistant Professor             PhD   \n",
       "1980  Assistant Professor             PhD   \n",
       "\n",
       "                                         Graduated from      Country    Year  \\\n",
       "0                                                   NaN       France     NaN   \n",
       "1                                                   NaN       France     NaN   \n",
       "2                         Asian Institute of Technology     Thailand     NaN   \n",
       "3                                                   NaN          NaN     NaN   \n",
       "4                         Asian Institute of Technology     Thailand     NaN   \n",
       "...                                                 ...          ...     ...   \n",
       "1976                                                NaN          NaN     NaN   \n",
       "1977                        Florida Atlantic University          USA  2012.0   \n",
       "1978                                                NaN      Austria     NaN   \n",
       "1979  Ghulam Ishaq Khan Institute of Science and Tec...     Pakistan     NaN   \n",
       "1980                          Seoul National University  South Korea     NaN   \n",
       "\n",
       "              Area of Specialization/Research Interests Other Information  \n",
       "0               P2P Networks, Telecommunication Systems               NaN  \n",
       "1     Wireless Networks, Telecommunication Systems, ...               NaN  \n",
       "2                           Software Engineering & DBMS               NaN  \n",
       "3                               Operating System & DBMS    On study leave  \n",
       "4                                                  DBMS               NaN  \n",
       "...                                                 ...               ...  \n",
       "1976  High Performance Computing, Computational Scie...               NaN  \n",
       "1977  Digital Multimedia Systems, Video Compression ...               NaN  \n",
       "1978  Unmanned Aerial Vehicle (UAV), Multirobot Syst...               NaN  \n",
       "1979  Medical Image Processing and Analysis, Digital...               NaN  \n",
       "1980                 Pruning and Quantizing CNN, GPGPU,               NaN  \n",
       "\n",
       "[1981 rows x 12 columns]"
      ]
     },
     "execution_count": 20,
     "metadata": {},
     "output_type": "execute_result"
    }
   ],
   "source": [
    "data"
   ]
  },
  {
   "cell_type": "code",
   "execution_count": 8,
   "id": "0186b8df-6c44-4f18-aeec-8a34a6523ce1",
   "metadata": {},
   "outputs": [],
   "source": [
    "countries = data.Country.unique()"
   ]
  },
  {
   "cell_type": "code",
   "execution_count": 9,
   "id": "8003f0d4-d9d6-473e-9ad0-5443abd01960",
   "metadata": {},
   "outputs": [
    {
     "data": {
      "text/plain": [
       "array(['France', 'Thailand', nan, 'Italy', 'Pakistan', 'Germany',\n",
       "       'Austria', 'Australia', 'UK', 'China', 'USA', 'South Korea',\n",
       "       'Malaysia', 'Sweden', 'Canada', 'Norway', 'Ireland', 'New Zealand',\n",
       "       'Urbana', 'Portugal', 'Russian Federation', 'Finland', ' USA',\n",
       "       'Netherland', ' Germany', ' Sweden', ' New Zealand', 'Greece',\n",
       "       'Turkey', 'Macau', 'Singapore', 'Spain', 'Denmark', 'Japan',\n",
       "       'HongKong', 'Saudi Arabia', 'Mauritius', 'Scotland'], dtype=object)"
      ]
     },
     "execution_count": 9,
     "metadata": {},
     "output_type": "execute_result"
    }
   ],
   "source": [
    "countries"
   ]
  },
  {
   "cell_type": "code",
   "execution_count": 11,
   "id": "2f594113-959d-47b3-83f9-23c5b51273e4",
   "metadata": {},
   "outputs": [
    {
     "data": {
      "text/plain": [
       "[('USA', 100),\n",
       " (' USA', 100),\n",
       " ('Mauritius', 72),\n",
       " ('Pakistan', 60),\n",
       " ('Austria', 60),\n",
       " ('Australia', 60),\n",
       " ('Malaysia', 60)]"
      ]
     },
     "execution_count": 11,
     "metadata": {},
     "output_type": "execute_result"
    }
   ],
   "source": [
    "matches = process.extract(\"USA\",countries,limit=7)\n",
    "matches"
   ]
  },
  {
   "cell_type": "code",
   "execution_count": 23,
   "id": "31bb66d7-ff80-4f97-beb3-f1490f242f31",
   "metadata": {},
   "outputs": [],
   "source": [
    "def replace_match_in_columns(df,columns,string_to_match,min_match=95):\n",
    "    strings = df[columns].unique()\n",
    "\n",
    "    matches = process.extract(string_to_match,strings,limit=5)\n",
    "\n",
    "    close_matches = [matches[0] for match in matches if match[1] >= min_match]\n",
    "\n",
    "    row_with_matches = df[columns].isin(close_matches)\n",
    "\n",
    "    df.loc[row_with_matches,columns] = string_to_match\n",
    "\n",
    "    print(\"All done\")\n"
   ]
  },
  {
   "cell_type": "code",
   "execution_count": 24,
   "id": "d7769f9d-d6d5-4520-8b0a-637249b6e7f8",
   "metadata": {},
   "outputs": [
    {
     "name": "stdout",
     "output_type": "stream",
     "text": [
      "All done\n"
     ]
    }
   ],
   "source": [
    "replace_match_in_columns(df = data, columns = 'Country', string_to_match = 'USA' )"
   ]
  },
  {
   "cell_type": "code",
   "execution_count": 12,
   "id": "af4085a2-4032-44cb-8f49-40a2ecfad26b",
   "metadata": {},
   "outputs": [
    {
     "data": {
      "text/plain": [
       "array(['France', 'Thailand', nan, 'Italy', 'Pakistan', 'Germany',\n",
       "       'Austria', 'Australia', 'UK', 'China', 'USA', 'South Korea',\n",
       "       'Malaysia', 'Sweden', 'Canada', 'Norway', 'Ireland', 'New Zealand',\n",
       "       'Urbana', 'Portugal', 'Russian Federation', 'Finland', ' USA',\n",
       "       'Netherland', ' Germany', ' Sweden', ' New Zealand', 'Greece',\n",
       "       'Turkey', 'Macau', 'Singapore', 'Spain', 'Denmark', 'Japan',\n",
       "       'HongKong', 'Saudi Arabia', 'Mauritius', 'Scotland'], dtype=object)"
      ]
     },
     "execution_count": 12,
     "metadata": {},
     "output_type": "execute_result"
    }
   ],
   "source": [
    "data[\"Country\"].unique()"
   ]
  },
  {
   "cell_type": "code",
   "execution_count": 26,
   "id": "c9bfe5ad-f1e2-44d6-ade4-a1e86bfd2508",
   "metadata": {},
   "outputs": [
    {
     "data": {
      "text/plain": [
       "array(['Australia', 'Austria', 'Canada', 'China', 'Denmark', 'Finland',\n",
       "       'France', 'Germany', 'Greece', 'HongKong', 'Ireland', 'Italy',\n",
       "       'Japan', 'Macau', 'Malaysia', 'Mauritius', 'Netherland',\n",
       "       'New Zealand', 'Norway', 'Pakistan', 'Portugal',\n",
       "       'Russian Federation', 'Saudi Arabia', 'Scotland', 'Singapore',\n",
       "       'South Korea', 'Spain', 'Sweden', 'Thailand', 'Turkey', 'UK',\n",
       "       'USA', 'Urbana'], dtype=object)"
      ]
     },
     "execution_count": 26,
     "metadata": {},
     "output_type": "execute_result"
    }
   ],
   "source": [
    "countries = data[\"Country\"].str.strip().dropna().astype(str).unique()\n",
    "countries.sort()\n",
    "countries"
   ]
  },
  {
   "cell_type": "markdown",
   "id": "fd2f8b9b-7dfe-41ee-be56-32897d9c069b",
   "metadata": {},
   "source": [
    "### Handle OutLiers"
   ]
  },
  {
   "cell_type": "code",
   "execution_count": 14,
   "id": "018dae5c-18bd-40c5-a5e5-528c63cfbcee",
   "metadata": {},
   "outputs": [],
   "source": [
    "import matplotlib.pyplot as plt\n",
    "from mlxtend.preprocessing import minmax_scaling"
   ]
  },
  {
   "cell_type": "markdown",
   "id": "50176ffb-2a95-4319-bdf5-1f7705184e31",
   "metadata": {},
   "source": [
    "##### random generated data"
   ]
  },
  {
   "cell_type": "code",
   "execution_count": 15,
   "id": "c2cc7a4c-da72-4a01-a5cf-9f14215f1a6c",
   "metadata": {},
   "outputs": [],
   "source": [
    "original_data = np.random.exponential(size=1000)"
   ]
  },
  {
   "cell_type": "markdown",
   "id": "efeb2c34-2d26-4c73-bd58-c8af323efa2e",
   "metadata": {},
   "source": [
    "visualize the data"
   ]
  },
  {
   "cell_type": "code",
   "execution_count": 16,
   "id": "fbb40649-a47a-4005-a24e-be850386b84d",
   "metadata": {},
   "outputs": [
    {
     "data": {
      "image/png": "[encoded data removed]",
      "text/plain": [
       "<Figure size 1400x400 with 1 Axes>"
      ]
     },
     "metadata": {},
     "output_type": "display_data"
    }
   ],
   "source": [
    "plt.figure(figsize=(14,4))\n",
    "sns.histplot(original_data,legend=True)\n",
    "plt.title('original Data')\n",
    "plt.show()"
   ]
  },
  {
   "cell_type": "code",
   "execution_count": 30,
   "id": "e94d4e90-59fb-4fe4-9610-59107f99d96b",
   "metadata": {},
   "outputs": [],
   "source": [
    "scaled_data = minmax_scaling(original_data,columns=[0])"
   ]
  },
  {
   "cell_type": "code",
   "execution_count": null,
   "id": "0af9aae3-1040-4e14-b329-ce52266ed9f5",
   "metadata": {},
   "outputs": [],
   "source": [
    "plt.figure(figsize=(14,4))\n",
    "sns.histplot(scaled_data,legend=True,kde=True)\n",
    "plt.title(\"Scaled Data\")\n",
    "plt.show()"
   ]
  },
  {
   "cell_type": "markdown",
   "id": "391efe03-d832-447f-88fa-4e713c77bbdb",
   "metadata": {},
   "source": [
    "### Skewed data\n",
    "\n",
    "Skewed data refers to a distribution of data points that is asymmetric, meaning that the data points are not evenly distributed around the mean. In a skewed distribution, the tail of the distribution is longer on one side than on the other."
   ]
  },
  {
   "cell_type": "markdown",
   "id": "42de8d60-b876-4ed5-b4a3-9cefdcd922df",
   "metadata": {},
   "source": [
    "#### Positive skewness (right-skewed): \n",
    "In a positively skewed distribution, the tail of the distribution extends to the right, and most of the data points are concentrated on the left side. This means that the mean is greater than the median and the mode. Examples of data that may exhibit positive skewness include income distribution (where a few individuals have very high incomes), test scores (where a few students score exceptionally high), and stock returns (where there are occasional large gains)."
   ]
  },
  {
   "cell_type": "markdown",
   "id": "9da80c5b-c90d-4a03-a113-5c3642f5b8bb",
   "metadata": {},
   "source": [
    "<img src=\"positive.png\" alt=\"Image\" width=\"400\" height=\"250\">"
   ]
  },
  {
   "cell_type": "markdown",
   "id": "c88f8795-cbb4-4e24-93c0-c5e38b473cae",
   "metadata": {},
   "source": [
    "#### Negative skewness (left-skewed): \n",
    "In a negatively skewed distribution, the tail of the distribution extends to the left, and most of the data points are concentrated on the right side. This means that the mean is less than the median and the mode. Examples of data that may exhibit negative skewness include age at retirement (where most people retire at older ages), test scores (where a few students perform poorly), and reaction times (where most people react quickly, but there are a few slow responders)."
   ]
  },
  {
   "cell_type": "markdown",
   "id": "186ab695-b6c0-4f00-84dc-b3e5d496c3f3",
   "metadata": {},
   "source": [
    "<img src=\"negative.png\" alt=\"Image\" width=\"400\" height=\"250\">"
   ]
  },
  {
   "cell_type": "markdown",
   "id": "1cfef9f0-4a16-4416-ad9a-de2e40e7ff80",
   "metadata": {},
   "source": [
    "### Symetric Distribution OR No Skew\n",
    "\n",
    "Normalized or no-skew data refers to data that has been transformed or processed in such a way that it no longer exhibits skewness. "
   ]
  },
  {
   "cell_type": "markdown",
   "id": "c1989043-32da-4d36-8e42-e6c8d58feba4",
   "metadata": {},
   "source": [
    "<img src=\"no_skew.png\" alt=\"Image\" width=\"400\" height=\"250\">"
   ]
  },
  {
   "cell_type": "code",
   "execution_count": null,
   "id": "ebb71f43-e8f8-4e6a-b5d1-619bf8331f43",
   "metadata": {},
   "outputs": [],
   "source": []
  },
  {
   "cell_type": "markdown",
   "id": "22198b1a-67b0-4a08-b279-bce2365a5872",
   "metadata": {},
   "source": [
    "### Normalization"
   ]
  },
  {
   "cell_type": "code",
   "execution_count": 18,
   "id": "64c60eb0-7e16-4a9e-8249-12895be0d3b9",
   "metadata": {},
   "outputs": [],
   "source": [
    "from scipy import stats\n",
    "normalized_data = stats.boxcox(original_data)"
   ]
  },
  {
   "cell_type": "code",
   "execution_count": 21,
   "id": "648763a1-3ffa-42da-ac0b-cd46d0d951cb",
   "metadata": {},
   "outputs": [
    {
     "data": {
      "image/png": "[encoded data removed]",
      "text/plain": [
       "<Figure size 1400x400 with 1 Axes>"
      ]
     },
     "metadata": {},
     "output_type": "display_data"
    }
   ],
   "source": [
    "plt.figure(figsize=(14,4))\n",
    "sns.histplot(normalized_data,legend=True,kde=True)\n",
    "plt.title(\"Normalizes Data\")\n",
    "plt.show()"
   ]
  }
 ],
 "metadata": {
  "kernelspec": {
   "display_name": "Python 3 (ipykernel)",
   "language": "python",
   "name": "python3"
  },
  "language_info": {
   "codemirror_mode": {
    "name": "ipython",
    "version": 3
   },
   "file_extension": ".py",
   "mimetype": "text/x-python",
   "name": "python",
   "nbconvert_exporter": "python",
   "pygments_lexer": "ipython3",
   "version": "3.10.9"
  }
 },
 "nbformat": 4,
 "nbformat_minor": 5
}
